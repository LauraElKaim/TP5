{
 "cells": [
  {
   "cell_type": "markdown",
   "metadata": {},
   "source": [
    "> Auteurs :  \n",
    "> - Ayoub Aarab (ayoub.aarab@etu.umontpellier.fr)  \n",
    "> - Clément Poncheele (clement.poncheele@etu.umontpellier.fr)  \n",
    "> - Assia Berrandou (assia.berrandou@etu.umontpellier.fr)  \n",
    "> - Laura El Kaïm (laura.el-kaim@etu.umontpellier.fr)  "
   ]
  },
  {
   "cell_type": "markdown",
   "metadata": {},
   "source": [
    "# TP5 - Perceptron multicouche"
   ]
  },
  {
   "cell_type": "markdown",
   "metadata": {},
   "source": [
    "L’objectif de ce TP est d’étudier les réseaux de neurones artificiels de type Perceptron MultiCouche (MLP) sur deux problèmes archi-classiques : le XOR et les Digits. Nous utiliserons le module `sklearn.neural_network` et plus particulièrement la fonction `MLPClassifier` qui fournit une implémentation du Perceptron MultiCouche pour la classification."
   ]
  },
  {
   "cell_type": "code",
   "execution_count": 332,
   "metadata": {},
   "outputs": [],
   "source": [
    "# Import Part\n",
    "\n",
    "from sklearn.neural_network import MLPClassifier\n",
    "from sklearn.datasets import load_digits\n",
    "from sklearn.svm import SVC\n",
    "from sklearn.model_selection import RepeatedKFold,GridSearchCV, cross_val_score, train_test_split\n",
    "import numpy as np\n",
    "from sklearn.metrics import confusion_matrix, plot_confusion_matrix, accuracy_score\n",
    "import matplotlib.pyplot as plt\n"
   ]
  },
  {
   "cell_type": "markdown",
   "metadata": {},
   "source": [
    "## Partie I : Apprentissage de fonctions booléennes\n",
    "\n",
    "On s’intéresse à l’apprentissage des fonctions booléennes AND, OR et XOR par un MLP. Nous rappelons la définition de ces opérateurs ci-dessous : \n",
    "\n",
    "<center>\n",
    "<img src=\"Images/table.jpg\" alt=\"Drawing\" style=\"width: 45%; height = 45%\"/>\n",
    "</center>\n",
    "\n",
    "$$\\text{Figure 1 : Table des opérateurs}$$\n",
    "\n",
    "Dans notre cas, le perceptron prend en entrée un vecteur de dimensions $2$ et effectue une séparation entre ces données afin de donner une sortie i.e déterminer la classe ($0$ ou $1$) auquelle appartient chaque donnée. Par la suite, si nous avons un nouveau vecteur, nous pourrons prédire la classe de chaque observation de ce dernier.\n",
    "\n",
    "En Python, nous utiliserons une variable $X_{train}=(X_1,X_2)$ contenant l’ensemble des entrées fournies au MLP et une variable $Y_{train}$ contenant l’ensemble des résultats attendus correspondants aux différentes entrées en fonction de l'opérateur.\n",
    "Ces résultats sont définis ci-dessous pour chacun des opérateurs : `AND`, `OR`, et `XOR`.  \n",
    "Puis nous définissons également la variable  : $X_{test}=\n",
    "\\begin{bmatrix} \n",
    "0 & 0 \\\\\n",
    "1 & 1 \\\\\n",
    "0 & 0 \\\\\n",
    "1 & 0 \\\\\n",
    "0 & 1 \n",
    "\\end{bmatrix}$ \n",
    "Cette dernière nous permettra de tester les prédictions faites par les différents classifieurs MLP."
   ]
  },
  {
   "cell_type": "code",
   "execution_count": 333,
   "metadata": {},
   "outputs": [],
   "source": [
    "# Base d'apprentissage\n",
    "X_train = [[0., 0.], [0., 1.], [1., 0.], [1., 1.]] #Entrées\n",
    "Y_train_and= [0, 0, 0, 1] # Résultats attendus\n",
    "Y_train_or = [0, 1, 1, 1]\n",
    "Y_train_xor = [0, 1, 1, 0]\n",
    "\n",
    "#Base d'entrainement\n",
    "X_test = [[0., 0.], [1., 1.], [0., 0.], [1., 0.], [0., 1.]]"
   ]
  },
  {
   "cell_type": "markdown",
   "metadata": {},
   "source": [
    "### Question 1 : Présentation des données\n",
    "\n",
    "Le MLP prend en entrée un vecteur binaire ($2$ bits). \n",
    " - Pour l'opérateur `AND` : Si $X_1 =1 $ et $X_2 = 1$, le classifieur retourne $1$, $0$ sinon,\n",
    " - Pour l'opérateur `OR` : Si $X_1=0$ et $X_2=0$, le classifieur retourne $0$ , $1$ sinon,\n",
    " - Pour l'opérateur `XOR` : Si $X_1$ et $X_2$ sont identiques, le classifieur retourne $0$, $1$ sinon.\n",
    "\n",
    " Nous avons représenté graphiquement ces résultats :\n",
    " \n"
   ]
  },
  {
   "cell_type": "markdown",
   "metadata": {},
   "source": [
    "<center>\n",
    "<img src=\"Images/AND_graphique.jpg\" alt=\"Drawing\" style=\"width: 35%; height = 35%\"/>\n",
    "\n",
    "<img src=\"Images/OR_graphique.jpg\" alt=\"Drawing\" style=\"width: 32.5%; height = 32.5%\"/>\n",
    "</center>\n",
    "\n",
    "$$ \\text{Figures 2 et 3 : Opérateurs AND et OR}$$                 \n",
    "\n",
    "Pour l'opérateur `OR` et `AND`, la classification est envisageable sous forme de séparation linéaire. C'est-à-dire qu'il est possible de tracer une droite séparant ainsi les données en $2$ groupes. \n",
    "\n",
    "<center>\n",
    "<img src=\"Images/xor.png\" alt=\"Drawing\" style=\"width: 31%; height = 31%\"/>\n",
    "<img src=\"Images/xor2.png\" alt=\"Drawing\" style=\"width: 32.2%; height = 32.2%\"/>\n",
    "</center>\n",
    "\n",
    "$$\\text{Figures 4 et 5 : Opérateur XOR }$$\n",
    "\n",
    "Les points en rouge appartiennent à la classes $0$ et à l'inverse les points en bleu appartiennent à la classe $1$.\n",
    "\n",
    "Pour l'opérateur `XOR`, la classification n'est pas envisageable sous forme de séparation linéaire. C'est-à-dire qu'il n'est pas possible de tracer une seule droite afin de séparer les données en $2$ groupes. Cependant, si l'on utilise une séparation non-linéaire i.e deux droites, la classification est possible.\n",
    "\n",
    "\n",
    "Le réseau de neurones MLP agit telle une fonction affine, i.e. les entrées sont séparées par des droites. Ainsi, le nombre de découpes dépend de la complexité du réseau de neurones. Pour les opérateurs `AND` et `OR`, une seule coupe est nécessaire, alors que pour le `XOR` il en faut $2$.\n",
    "C'est pourquoi, le réseau de neurones de l'opérateur `XOR` est plus complexe que celui du `AND` et du `OR`.\n"
   ]
  },
  {
   "cell_type": "markdown",
   "metadata": {},
   "source": [
    "### Question 2 : Classifieur pour l'opérateur `AND`\n",
    "\n",
    "Définissons un classifieur MLP à aucune couche cachée dont la fonction d'activation est linéaire et dont le solver est de type `lbfgs` pour apprendre l'opérateur `AND`.  \n"
   ]
  },
  {
   "cell_type": "code",
   "execution_count": 335,
   "metadata": {},
   "outputs": [
    {
     "name": "stdout",
     "output_type": "stream",
     "text": [
      "[0 1 0 0 0]\n"
     ]
    }
   ],
   "source": [
    "clf_and = MLPClassifier(hidden_layer_sizes=(),\n",
    "                    activation='identity', solver='lbfgs')\n",
    "clf_and.fit(X_train, Y_train_and)\n",
    "print(clf_and.predict(X_test))"
   ]
  },
  {
   "cell_type": "markdown",
   "metadata": {},
   "source": [
    "Une fois le réseau de neurones entraîné, on peut tester le classifieur sur le vecteur $X_{test}$ :"
   ]
  },
  {
   "cell_type": "code",
   "execution_count": 336,
   "metadata": {},
   "outputs": [
    {
     "name": "stdout",
     "output_type": "stream",
     "text": [
      "[0 1 0 0 0]\n"
     ]
    }
   ],
   "source": [
    "print(clf_and.predict(X_test))"
   ]
  },
  {
   "cell_type": "markdown",
   "metadata": {},
   "source": [
    "Nous nous attendons à obtenir le vecteur $(0, 1, 0, 0, 0)$  pour la prédiction de $X_{test}$. Comme nous pouvons le voir ci-dessus, c'est bien le résultat que nous avons et donc les prédictions sont correctes."
   ]
  },
  {
   "cell_type": "markdown",
   "metadata": {},
   "source": [
    "### Question 3 : Classifieur pour l'opérateur `OR`\n",
    "\n",
    "Comme précédemment, pour apprendre l'opérateur `OR`, nous définissons un classifieur MLP à aucune couche cachée dont la fonction d'activation est linéaire et dont le solver est de type `lbfgs`."
   ]
  },
  {
   "cell_type": "code",
   "execution_count": 317,
   "metadata": {},
   "outputs": [
    {
     "data": {
      "text/plain": [
       "MLPClassifier(activation='identity', hidden_layer_sizes=(), solver='lbfgs')"
      ]
     },
     "execution_count": 317,
     "metadata": {},
     "output_type": "execute_result"
    }
   ],
   "source": [
    "# Pour operateur OR\n",
    "clf_or = MLPClassifier(hidden_layer_sizes=(),\n",
    "                    activation='identity', solver='lbfgs')\n",
    "clf_or.fit(X_train, Y_train_or)"
   ]
  },
  {
   "cell_type": "markdown",
   "metadata": {},
   "source": [
    "Une fois le réseau de neurones entraîné, on peut tester le classifieur sur le vecteur $X_{test}$ :"
   ]
  },
  {
   "cell_type": "code",
   "execution_count": 337,
   "metadata": {},
   "outputs": [
    {
     "name": "stdout",
     "output_type": "stream",
     "text": [
      "[0 1 0 1 1]\n"
     ]
    }
   ],
   "source": [
    "print(clf_or.predict(X_test))"
   ]
  },
  {
   "cell_type": "markdown",
   "metadata": {},
   "source": [
    "Nous nous attendons à obtenir le vecteur $(0, 1, 0, 1, 1)$  pour la prédiction de $X_{test}$. Comme nous pouvons le voir ci-dessus, c'est bien le résultat que nous avons et donc les prédictions sont correctes."
   ]
  },
  {
   "cell_type": "markdown",
   "metadata": {},
   "source": [
    "### Question 4 : Classifieur pour l'opérateur `XOR`\n",
    "\n",
    "a) Pour apprendre l'opérateur `XOR`, nous définissons un classifieur MLP à aucune couche cachée dont la fonction d'activation est linéaire et dont le solver est de type `lbfgs`."
   ]
  },
  {
   "cell_type": "code",
   "execution_count": 338,
   "metadata": {},
   "outputs": [
    {
     "data": {
      "text/plain": [
       "MLPClassifier(activation='identity', hidden_layer_sizes=(), solver='lbfgs')"
      ]
     },
     "execution_count": 338,
     "metadata": {},
     "output_type": "execute_result"
    }
   ],
   "source": [
    "# Pour operateur X0R\n",
    "clf_xor0= MLPClassifier(hidden_layer_sizes=(),\n",
    "                    activation='identity', solver='lbfgs')\n",
    "clf_xor0.fit(X_train, Y_train_xor)"
   ]
  },
  {
   "cell_type": "markdown",
   "metadata": {},
   "source": [
    "Une fois le réseau de neurones entraîné, on peut tester le classifieur sur le vecteur $X_{test}$ :"
   ]
  },
  {
   "cell_type": "code",
   "execution_count": 339,
   "metadata": {},
   "outputs": [
    {
     "name": "stdout",
     "output_type": "stream",
     "text": [
      "[1 1 1 1 1]\n"
     ]
    }
   ],
   "source": [
    "print(clf_xor0.predict(X_test))"
   ]
  },
  {
   "cell_type": "markdown",
   "metadata": {},
   "source": [
    "Avec l'opérateur `XOR`, nous nous attendons à obtenir le vecteur $(0 , 0 , 0 , 1,  1)$ pour $X_{test}$. Cependant, nous n'obtenons pas ce résultat. \n",
    "En exécutant plusieurs fois de suite le code ci-dessus (code du classifieur), le vecteur prédit n'est pas systématiquement le même et n'est jamais correct.  \n",
    "\n",
    "Ici, nous n'utilions aucune couche cachée. Or comme nous l'avons vu sur les figures $4$ et $5$, les classes formées par l'opérateur `XOR` ne sont pas linéairement séparables. Nous nous attendions donc à ce résultat.  \n",
    "Il semblerait alors que le perceptron multicouches grâce à l'ajout de couches cachées puisse pallier ce problème."
   ]
  },
  {
   "cell_type": "markdown",
   "metadata": {},
   "source": [
    "b) Cette fois-ci nous allons changer les paramètres de notre classifieur pour apprendre l'opérateur `XOR`. Nous utiliserons deux couches cachées composées de $4$ neurones en première couche et $2$ neurones en deuxième couche, i.e nous changerons les valeurs du tuple `hidden_layer_sizes`. Ici nous aurons `hidden_sizes_layer=(4, 2)`.\n",
    "\n",
    "Les autres paramètres restent inchangés : activations linéaires et solver de type `lbfgs`.  "
   ]
  },
  {
   "cell_type": "code",
   "execution_count": 340,
   "metadata": {},
   "outputs": [
    {
     "data": {
      "text/plain": [
       "MLPClassifier(activation='identity', hidden_layer_sizes=(4, 2), solver='lbfgs')"
      ]
     },
     "execution_count": 340,
     "metadata": {},
     "output_type": "execute_result"
    }
   ],
   "source": [
    "# On est toujours avec l operateur XOR\n",
    "clf_xor2 = MLPClassifier(hidden_layer_sizes=(4, 2),\n",
    "                    activation='identity', solver='lbfgs')\n",
    "clf_xor2.fit(X_train, Y_train_xor)"
   ]
  },
  {
   "cell_type": "markdown",
   "metadata": {},
   "source": [
    "Une fois le réseau de neurones entraîné, on peut tester le classifieur sur le vecteur $X_{test}$ :"
   ]
  },
  {
   "cell_type": "code",
   "execution_count": 341,
   "metadata": {},
   "outputs": [
    {
     "name": "stdout",
     "output_type": "stream",
     "text": [
      "[0 0 0 1 0]\n"
     ]
    }
   ],
   "source": [
    "print(clf_xor2.predict(X_test))"
   ]
  },
  {
   "cell_type": "markdown",
   "metadata": {},
   "source": [
    "Nous nous attendons toujours à obtenir la prédiction $(0, 0, 0, 1, 1)$, mais le problème reste le même. \n",
    "En effet, les données de l'opérateur `XOR` ne sont pas linéairement séparables, et il semblerait que l'ajout de couches ne soit pas suffisant. \n",
    "\n",
    "Une approche par des fonctions d'activation non-linéaires peut être une solution à ce problème. Plus précisément, la fonction d'activation linéaire permet de modéliser une variable réponse qui varie linéairement avec ses variables explicatives. Par linéairement, nous entendons que la sortie peut être reproduite à partir d'une combinaison linéaire des entrées. De cette façon, sans fonctions d'activation non-linéaires dans le réseau, peu importe le nombre de couches qu'on lui affecte, celui-ci va se comporter comme un perceptron monocouche. Ceci est dû au fait que la somme de ses couches ne donnerait qu'une autre fonction linéaire.\n"
   ]
  },
  {
   "cell_type": "markdown",
   "metadata": {},
   "source": [
    "c) Toujours en utilisant $2$ couches composées de $4$ neurones en première couche et 2 neurones en deuxième couche et un solver de type `lbfgs`, nous allons cette fois changer les fonctions d'activation. Ces dernières seront non-linéaires de type tangente hyperbolique (fonction `tanh`)."
   ]
  },
  {
   "cell_type": "code",
   "execution_count": 342,
   "metadata": {},
   "outputs": [
    {
     "data": {
      "text/plain": [
       "MLPClassifier(activation='tanh', hidden_layer_sizes=(4, 2), solver='lbfgs')"
      ]
     },
     "execution_count": 342,
     "metadata": {},
     "output_type": "execute_result"
    }
   ],
   "source": [
    "clf_xor_tan = MLPClassifier(hidden_layer_sizes=(4, 2),\n",
    "                        activation='tanh', solver='lbfgs')\n",
    "clf_xor_tan.fit(X_train, Y_train_xor)"
   ]
  },
  {
   "cell_type": "markdown",
   "metadata": {},
   "source": [
    "Une fois le réseau de neurones entraîné, on peut tester le classifieur sur le vecteur $X_{test}$ :"
   ]
  },
  {
   "cell_type": "code",
   "execution_count": 343,
   "metadata": {},
   "outputs": [
    {
     "name": "stdout",
     "output_type": "stream",
     "text": [
      "[0 0 0 1 1]\n"
     ]
    }
   ],
   "source": [
    "print(clf_xor_tan.predict(X_test))"
   ]
  },
  {
   "cell_type": "markdown",
   "metadata": {},
   "source": [
    "Nous exécutons une première fois le code ci-dessus et la prédiction est correcte. Nous réitérons la commande un grand nombre de fois et il semblerait que dans la majorité des cas la prédiction soit bonne et que dans les autres, elle en soit proche (une valeur sur $5$ est mauvaise). Par exemple, l'algorithme a prédit le vecteur $(0, 0, 0 ,0, 1)$ (mauvaise prédiction) au bout d'environ $45$ bonnes prédictions. Cela peut s'expliquer par le fait que la matrice de poids est aléatoire."
   ]
  },
  {
   "cell_type": "code",
   "execution_count": 347,
   "metadata": {},
   "outputs": [
    {
     "name": "stdout",
     "output_type": "stream",
     "text": [
      "Nous testons le classifieur sur la base de test X_test. On réitère 200 fois l'algorithme créant le classifieur. Le taux d'erreur du classifieur est : 9.0 %.\n"
     ]
    }
   ],
   "source": [
    "#Bonne réponse de X_test\n",
    "Y_test_xor = [0, 0, 0, 1, 1]\n",
    "\n",
    "#Test sur 200 itérations\n",
    "erreur = 0 \n",
    "for i in range(0,200):\n",
    "    clf_xor_tan = MLPClassifier(hidden_layer_sizes=(4, 2),\n",
    "                        activation='tanh', solver='lbfgs')\n",
    "    clf_xor_tan.fit(X_train, Y_train_xor)\n",
    "    if (np.array_equal(Y_test_xor, clf_xor_tan.predict(X_test))==False):\n",
    "        erreur = erreur+1\n",
    "    \n",
    "print(\"Nous testons le classifieur sur la base de test X_test. On réitère 200 fois l'algorithme créant le classifieur. Le taux d'erreur du classifieur est :\", erreur/200*100,\"%.\")"
   ]
  },
  {
   "cell_type": "markdown",
   "metadata": {},
   "source": [
    "## Partie II : Classification d'images"
   ]
  },
  {
   "cell_type": "markdown",
   "metadata": {},
   "source": [
    "On s’intéresse cette fois à un problème d’apprentissage plus difficile : l’identification du chiffre (manuscrit) contenu dans une image.\n",
    "\n",
    "### Question 5 : Présentation des données et classifieur\n",
    "\n",
    "Nous allons utiliser ici le jeu de données `DIGITS` disponible via la librairie `scikit-learn`. \n",
    "Ce jeu de données est composé de $1797$ images de taille $8*8$ px. Chaque image comportent donc $64$ pixels. Elles sont stockées sous la forme de vecteurs lignes de dimension $64$."
   ]
  },
  {
   "cell_type": "markdown",
   "metadata": {},
   "source": [
    "Nous avons la matrice $X$ de taille $1797*64$ et le vecteur colonne $Y$ de taille $1794*1$ composé de $10$ classes où la $i$-ème ligne du vecteur correspond à la classe de la $i$-ème image ($i$-ème ligne de X).\n",
    "\n",
    "La problématique de classification sera la prédiction de $Y$.\n",
    "\n",
    "<center>\n",
    "<img src=\"Images/digits.jpg\" alt=\"Drawing\" style=\"width: 35%; height = 35%\"/>\n",
    "\n",
    "$$\\text{Figure 5 : La 15ème image représente un 5}$$\n",
    "</center>"
   ]
  },
  {
   "cell_type": "code",
   "execution_count": 348,
   "metadata": {},
   "outputs": [
    {
     "name": "stdout",
     "output_type": "stream",
     "text": [
      "Nombre de pixels par image:      64\n",
      "Nombre d'observations : 1797\n",
      "Nombre de classes :     10\n"
     ]
    }
   ],
   "source": [
    "#présentation des données\n",
    "dataset = load_digits() \n",
    "X = dataset.data  # Entrees\n",
    "Y = dataset.target  # Resultats attendus\n",
    "\n",
    "print(\"Nombre de pixels par image:      {}\".format(X.shape[1]))\n",
    "print(\"Nombre d'observations : {}\".format(X.shape[0]))\n",
    "print(\"Nombre de classes :     {}\".format(len(np.unique(Y))))"
   ]
  },
  {
   "cell_type": "markdown",
   "metadata": {},
   "source": [
    "Dans la suite, nous découpons le jeu de données comme suit : $90 \\%$ des données sont pour la base d'apprentissage et $10 \\%$ des données sont pour l'ensemble de test.\n",
    "\n",
    "Ainsi, le classifieur sera entraîné sur la base d'apprentissage et sa capacité de généralisation sera évaluée sur la base de test."
   ]
  },
  {
   "cell_type": "code",
   "execution_count": 350,
   "metadata": {},
   "outputs": [],
   "source": [
    "# Decoupage du jeu de donnees en une base d apprentissage et une base de test\n",
    "X_train, X_test, Y_train, Y_test = train_test_split(X, Y, test_size=0.1) "
   ]
  },
  {
   "cell_type": "markdown",
   "metadata": {},
   "source": [
    "Faisons varier les paramètres de `MLPClassifier` (nombre de couches cachées, nombre de neurones par couche, fonctions d'activation et solver)."
   ]
  },
  {
   "cell_type": "code",
   "execution_count": 351,
   "metadata": {},
   "outputs": [
    {
     "name": "stderr",
     "output_type": "stream",
     "text": [
      "C:\\Users\\assia\\anaconda3\\lib\\site-packages\\sklearn\\neural_network\\_multilayer_perceptron.py:471: ConvergenceWarning: lbfgs failed to converge (status=1):\n",
      "STOP: TOTAL NO. of ITERATIONS REACHED LIMIT.\n",
      "\n",
      "Increase the number of iterations (max_iter) or scale the data as shown in:\n",
      "    https://scikit-learn.org/stable/modules/preprocessing.html\n",
      "  self.n_iter_ = _check_optimize_result(\"lbfgs\", opt_res, self.max_iter)\n",
      "C:\\Users\\assia\\anaconda3\\lib\\site-packages\\sklearn\\neural_network\\_multilayer_perceptron.py:471: ConvergenceWarning: lbfgs failed to converge (status=1):\n",
      "STOP: TOTAL NO. of ITERATIONS REACHED LIMIT.\n",
      "\n",
      "Increase the number of iterations (max_iter) or scale the data as shown in:\n",
      "    https://scikit-learn.org/stable/modules/preprocessing.html\n",
      "  self.n_iter_ = _check_optimize_result(\"lbfgs\", opt_res, self.max_iter)\n"
     ]
    },
    {
     "data": {
      "text/plain": [
       "MLPClassifier(activation='tanh', hidden_layer_sizes=(4, 2), solver='lbfgs')"
      ]
     },
     "execution_count": 351,
     "metadata": {},
     "output_type": "execute_result"
    }
   ],
   "source": [
    "# Classifieurs\n",
    "\n",
    "clf0 = MLPClassifier(hidden_layer_sizes=(),\n",
    "                    activation='identity', solver='lbfgs')\n",
    "clf0.fit(X_train, Y_train)\n",
    "# Aucune couche cachee, activation lineaire, solver de type lbfgs\n",
    "\n",
    "clf01 = MLPClassifier(hidden_layer_sizes=(),\n",
    "                    activation='tanh', solver='lbfgs')\n",
    "clf01.fit(X_train, Y_train)\n",
    "# Aucune couche cachee, activation non-lineaire de type tangente\n",
    "# hyperbolique, solver de type lbfgs\n",
    "\n",
    "clf1 = MLPClassifier(hidden_layer_sizes=(4, 2),\n",
    "                    activation='identity', solver='lbfgs')\n",
    "clf1.fit(X_train, Y_train)\n",
    "# Deux couches cachees de 4 neurones et 2 neurones, activation lineaire,\n",
    "# solver de type lbfgs\n",
    "\n",
    "clf2 = MLPClassifier(hidden_layer_sizes=(4, 2),\n",
    "                    activation='tanh', solver='lbfgs')\n",
    "clf2.fit(X_train, Y_train)\n",
    "\n",
    "\n",
    "# Deux couches cachees de 4 neurones et 2 neurones, activation \n",
    "# non-lineaire de type tangente hyperbolique, solver de type lbfgs\n",
    "\n",
    "# On peut tester d autres parametres :\n",
    "# activation : `logistic` (logistic sigmoid function), `relu`\n",
    "# (rectified linear unit function)\n",
    "# (stochastic grandient-based optimizer)"
   ]
  },
  {
   "cell_type": "code",
   "execution_count": 352,
   "metadata": {},
   "outputs": [
    {
     "data": {
      "text/plain": [
       "'\\nY_test_pred = clf0.predict(X_test)\\nprint(\"Score avec aucune couche cachée et activation linéaire : \",\\n      accuracy_score(Y_test, Y_test_pred))\\n\\nY_test_pred = clf01.predict(X_test)\\nprint(\"Score avec aucune couche cachée et activation non-linéaire: \",\\n      accuracy_score(Y_test, Y_test_pred))\\n\\nY_test_pred = clf1.predict(X_test)\\nprint(\"Score pour deux couches cachées : \",\\n      accuracy_score(Y_test, Y_test_pred))\\n'"
      ]
     },
     "execution_count": 352,
     "metadata": {},
     "output_type": "execute_result"
    }
   ],
   "source": [
    "\"\"\"\n",
    "Y_test_pred = clf0.predict(X_test)\n",
    "print(\"Score avec aucune couche cachée et activation linéaire : \",\n",
    "      accuracy_score(Y_test, Y_test_pred))\n",
    "\n",
    "Y_test_pred = clf01.predict(X_test)\n",
    "print(\"Score avec aucune couche cachée et activation non-linéaire: \",\n",
    "      accuracy_score(Y_test, Y_test_pred))\n",
    "\n",
    "Y_test_pred = clf1.predict(X_test)\n",
    "print(\"Score pour deux couches cachées : \",\n",
    "      accuracy_score(Y_test, Y_test_pred))\n",
    "\"\"\""
   ]
  },
  {
   "cell_type": "code",
   "execution_count": 354,
   "metadata": {},
   "outputs": [
    {
     "name": "stdout",
     "output_type": "stream",
     "text": [
      "Les meilleurs paramètres sont :  {'activation': 'identity', 'hidden_layer_sizes': (15, 15), 'solver': 'lbfgs'}\n",
      "Le score du classifieur MLP associé à ces derniers et appliqué aux données test est égal à 0.9573258673189873 i.e le taux de précision est 95.73 %\n",
      "La matrice de confusion est :\n"
     ]
    },
    {
     "data": {
      "text/plain": [
       "<sklearn.metrics._plot.confusion_matrix.ConfusionMatrixDisplay at 0x21f99ef5d00>"
      ]
     },
     "execution_count": 354,
     "metadata": {},
     "output_type": "execute_result"
    },
    {
     "data": {
      "image/png": "[encoded data removed]",
      "text/plain": [
       "<Figure size 432x288 with 2 Axes>"
      ]
     },
     "metadata": {
      "needs_background": "light"
     },
     "output_type": "display_data"
    }
   ],
   "source": [
    "# Creation de classifieur MLP utilisant la validation croisée sur 5 ensembles repetee 3 fois\n",
    "#  selon differentes combinaisons de parametres\n",
    "valic_c = RepeatedKFold(n_splits=5, n_repeats=3)\n",
    "param_mlp= {\n",
    "    'hidden_layer_sizes': [(15,15),(10,10),(5,5), (3,3,3)],\n",
    "    'activation': ['identity', 'tanh', 'logistic' ,'relu'],\n",
    "    'solver': ['lbfgs', 'sgd', 'adam'],\n",
    "}\n",
    "\n",
    "mlp = GridSearchCV(MLPClassifier(), param_mlp, n_jobs= -1, cv = valic_c) \n",
    "mlp.fit(X_train, Y_train)\n",
    "\n",
    "# Choix des meilleurs parametres\n",
    "print(\"Les meilleurs paramètres sont : \", mlp.best_params_)\n",
    "print(\"Le score du classifieur MLP associé à ces derniers et appliqué aux données test est égal à\", mlp.best_score_, \"i.e le taux de précision est\",round(mlp.best_score_*100,2) , \"%\" ) \n",
    "print(\"La matrice de confusion est :\") \n",
    "plot_confusion_matrix(mlp.best_estimator_, X_test, Y_test, cmap=plt.cm.OrRd)\n"
   ]
  },
  {
   "cell_type": "markdown",
   "metadata": {},
   "source": [
    "Le code ci-dessus permet d'évaluer les performances du classifieur sur l'ensemble de test en termes d'exactitude de classification pour identifier quelle configuration de MLP fonctionne le mieux. Pour ce faire, nous avons utilisé une validation croisée sur $5$ ensembles répétée $3$ fois (temps de calcul estimé à $1$ minutes $20$). Il y a en moyenne $7$ erreurs de predictions sur $180$.\n"
   ]
  },
  {
   "cell_type": "markdown",
   "metadata": {},
   "source": [
    "### Question 6 : Classifieur SVM et comparaison \n",
    "\n",
    "Nous allons construire un classifieur SVM en validation croisée à $5$ ensembles répétée $10$ fois afin de déterminer les meilleurs paramètres.\n"
   ]
  },
  {
   "cell_type": "code",
   "execution_count": 331,
   "metadata": {},
   "outputs": [
    {
     "name": "stdout",
     "output_type": "stream",
     "text": [
      "Les meilleurs paramètres sont :  {'C': 4, 'kernel': 'rbf'}\n",
      "Le score du classifieur SVM associé à ces derniers et appliqué aux données test est égal à 0.9903525971792224 i.e le taux de précision est 99.04 %\n",
      "La matrice de confusion est :\n"
     ]
    },
    {
     "data": {
      "text/plain": [
       "<sklearn.metrics._plot.confusion_matrix.ConfusionMatrixDisplay at 0x21f984118e0>"
      ]
     },
     "execution_count": 331,
     "metadata": {},
     "output_type": "execute_result"
    },
    {
     "data": {
      "image/png": "[encoded data removed]",
      "text/plain": [
       "<Figure size 432x288 with 2 Axes>"
      ]
     },
     "metadata": {
      "needs_background": "light"
     },
     "output_type": "display_data"
    }
   ],
   "source": [
    "param_svm = {'kernel': ('linear', 'rbf', 'poly', 'sigmoid'), 'C': range(1,15)}\n",
    "\n",
    "valic_c = RepeatedKFold(n_splits=5, n_repeats=10)\n",
    "svm = GridSearchCV(SVC(), param_svm, n_jobs=-1, cv=valic_c)\n",
    "svm = svm.fit(X_train, Y_train)\n",
    "\n",
    "print(\"Les meilleurs paramètres sont : \", svm.best_params_)\n",
    "print(\"Le score du classifieur SVM associé à ces derniers et appliqué aux données test est égal à\", svm.best_score_, \"i.e le taux de précision est\",round(svm.best_score_*100,2) , \"%\" ) \n",
    "print(\"La matrice de confusion est :\") \n",
    "plot_confusion_matrix(svm.best_estimator_, X_test, Y_test, cmap=plt.cm.OrRd)"
   ]
  },
  {
   "cell_type": "markdown",
   "metadata": {},
   "source": [
    "Les taux de précision des classifeurs sont supérieurs à $95 \\%$. Cependant, nous constatons que le classifieur SVM se trompe rarement contrairement au classifieur MLP.\n",
    "Notons quand même que ce dernier prédit correctement plus de $90 \\%$ des données test de chaque classe."
   ]
  },
  {
   "cell_type": "markdown",
   "metadata": {},
   "source": [
    "# Conclusion\n",
    "\n",
    "Un perceptron simple est un classifieur linéaire. Cela signifie qu'il peut uniquement classer des données en deux classes bien distinctes.  \n",
    "Celui-ci, du fait de sa fonction d'activation, ne peut apprendre à classer correctement un jeu de données non-linéaires. C'est le problème posé par la fonction `XOR`. Un perceptron ne parviendra pas à découper correctement l'espace pour proposer un classement optimal des données. Du moins, pas avec une fonction d'activation classique.  \n",
    "\n",
    "Dans ce TP, nous avons vu qu'il était possible de résoudre ce problème avec un réseau de neurones multicouches.  \n",
    "Un perceptron multicouches est ainsi utilisé pour traiter des jeux de données non-linéairement séparables, en utilisant une fonction d'activation non-linéaire.  \n",
    "Bien choisir les paramètres du perceptron, selon le jeu de données étudié, est donc primordial.\n",
    "  \n",
    "Enfin, nous avons déterminé un classifieur MLP dont les paramètres sont optimaux. Malgré tout, le classifieur SVM a montré des résultats plus performants. De plus, le temps de calcul du classifieur SVM est plus court que celui du MLP.\n",
    "\n",
    "\n",
    "\n"
   ]
  }
 ],
 "metadata": {
  "interpreter": {
   "hash": "e4200eeb6436dc1000a96c64a8f169ba587b22ec2b9bb13e02b5922f8a585277"
  },
  "kernelspec": {
   "display_name": "Python 3.8.5 64-bit ('base': conda)",
   "name": "python3"
  },
  "language_info": {
   "codemirror_mode": {
    "name": "ipython",
    "version": 3
   },
   "file_extension": ".py",
   "mimetype": "text/x-python",
   "name": "python",
   "nbconvert_exporter": "python",
   "pygments_lexer": "ipython3",
   "version": "3.8.5"
  },
  "orig_nbformat": 4
 },
 "nbformat": 4,
 "nbformat_minor": 2
}
